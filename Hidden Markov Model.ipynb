{
 "cells": [
  {
   "cell_type": "code",
   "execution_count": 1,
   "id": "a60cb01c",
   "metadata": {},
   "outputs": [],
   "source": [
    "#Hidden Markov Model\n",
    "import numpy as np\n",
    "states=['Fair','Biased']\n",
    "observations=['H','T']"
   ]
  },
  {
   "cell_type": "code",
   "execution_count": 2,
   "id": "b298a3d6",
   "metadata": {},
   "outputs": [],
   "source": [
    "inital_probabilities=[0.5,0.5]"
   ]
  },
  {
   "cell_type": "code",
   "execution_count": 3,
   "id": "67818c51",
   "metadata": {},
   "outputs": [],
   "source": [
    "transition_matrix=np.array([[0.8,0.2],[0.2,0.8]])"
   ]
  },
  {
   "cell_type": "code",
   "execution_count": 4,
   "id": "0920179e",
   "metadata": {},
   "outputs": [],
   "source": [
    "emission_matrix=np.array([[0.5,0.5],[0.2,0.8]])"
   ]
  },
  {
   "cell_type": "code",
   "execution_count": 5,
   "id": "f89e9218",
   "metadata": {},
   "outputs": [],
   "source": [
    "def generate_observations(sequence_length):\n",
    "    observations_sequence=[]\n",
    "    states_sequence=[]\n",
    "    current_state=np.random.choice(states,p=inital_probabilities)\n",
    "\n",
    "    for _ in range(sequence_length):\n",
    "        current_observation=np.random.choice(observations,p=emission_matrix[states.index(current_state)])\n",
    "        observations_sequence.append(current_observation)\n",
    "        states_sequence.append(current_state)\n",
    "        current_state=np.random.choice(states,p=transition_matrix[states.index(current_state)])\n",
    "    return observations_sequence,states_sequence"
   ]
  },
  {
   "cell_type": "code",
   "execution_count": 6,
   "id": "ae0a8b77",
   "metadata": {},
   "outputs": [],
   "source": [
    "sequence_length=50\n",
    "observations_sequences,states_sequence=generate_observations(sequence_length)"
   ]
  },
  {
   "cell_type": "code",
   "execution_count": 7,
   "id": "86c937b9",
   "metadata": {},
   "outputs": [
    {
     "name": "stdout",
     "output_type": "stream",
     "text": [
      "Generated Observations: ['T', 'T', 'T', 'T', 'T', 'T', 'T', 'T', 'T', 'H', 'T', 'T', 'T', 'T', 'T', 'T', 'T', 'T', 'H', 'T', 'H', 'H', 'T', 'T', 'T', 'T', 'T', 'T', 'T', 'H', 'T', 'T', 'H', 'T', 'H', 'T', 'T', 'T', 'H', 'H', 'H', 'T', 'T', 'T', 'T', 'H', 'H', 'T', 'H', 'H']\n",
      "True States: ['Biased', 'Biased', 'Biased', 'Biased', 'Biased', 'Biased', 'Biased', 'Biased', 'Biased', 'Biased', 'Biased', 'Biased', 'Biased', 'Biased', 'Biased', 'Biased', 'Biased', 'Biased', 'Fair', 'Fair', 'Fair', 'Biased', 'Biased', 'Biased', 'Biased', 'Biased', 'Biased', 'Biased', 'Biased', 'Biased', 'Biased', 'Biased', 'Biased', 'Fair', 'Fair', 'Biased', 'Biased', 'Fair', 'Fair', 'Fair', 'Fair', 'Biased', 'Biased', 'Biased', 'Biased', 'Biased', 'Fair', 'Fair', 'Fair', 'Fair']\n"
     ]
    }
   ],
   "source": [
    "print(\"Generated Observations:\",observations_sequences)\n",
    "print(\"True States:\",states_sequence)"
   ]
  },
  {
   "cell_type": "code",
   "execution_count": null,
   "id": "24f3a365",
   "metadata": {},
   "outputs": [],
   "source": []
  }
 ],
 "metadata": {
  "kernelspec": {
   "display_name": "Python 3 (ipykernel)",
   "language": "python",
   "name": "python3"
  },
  "language_info": {
   "codemirror_mode": {
    "name": "ipython",
    "version": 3
   },
   "file_extension": ".py",
   "mimetype": "text/x-python",
   "name": "python",
   "nbconvert_exporter": "python",
   "pygments_lexer": "ipython3",
   "version": "3.9.12"
  }
 },
 "nbformat": 4,
 "nbformat_minor": 5
}
